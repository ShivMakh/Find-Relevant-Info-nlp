{
  "nbformat": 4,
  "nbformat_minor": 0,
  "metadata": {
    "colab": {
      "provenance": [],
      "toc_visible": true,
      "authorship_tag": "ABX9TyN5uCHqf2E3FoA6SCNyd5Xq",
      "include_colab_link": true
    },
    "kernelspec": {
      "name": "python3",
      "display_name": "Python 3"
    },
    "language_info": {
      "name": "python"
    }
  },
  "cells": [
    {
      "cell_type": "markdown",
      "metadata": {
        "id": "view-in-github",
        "colab_type": "text"
      },
      "source": [
        "<a href=\"https://colab.research.google.com/github/ShivMakh/Find-Relevant-Info-nlp/blob/main/Initial%20Prototype.ipynb\" target=\"_parent\"><img src=\"https://colab.research.google.com/assets/colab-badge.svg\" alt=\"Open In Colab\"/></a>"
      ]
    },
    {
      "cell_type": "code",
      "execution_count": null,
      "metadata": {
        "colab": {
          "base_uri": "https://localhost:8080/"
        },
        "id": "gbjbqmq3CgL1",
        "outputId": "18f2dfef-073f-4508-85fd-0d991bc48bfc"
      },
      "outputs": [
        {
          "output_type": "stream",
          "name": "stdout",
          "text": [
            "Mounted at /content/drive\n"
          ]
        }
      ],
      "source": [
        "from google.colab import drive\n",
        "drive.mount('/content/drive')"
      ]
    },
    {
      "cell_type": "code",
      "source": [
        "import PyPDF2\n",
        "import textract\n",
        "import nltk"
      ],
      "metadata": {
        "id": "7loSLOY3GcTg"
      },
      "execution_count": null,
      "outputs": []
    },
    {
      "cell_type": "code",
      "source": [
        "from nltk.tokenize import word_tokenize\n",
        "from nltk.corpus import stopwords"
      ],
      "metadata": {
        "id": "m5ap2j4cHAtc"
      },
      "execution_count": null,
      "outputs": []
    },
    {
      "cell_type": "code",
      "source": [
        "\n",
        "#allow code blocks to print/display multiple outputs per block\n",
        "from IPython.core.interactiveshell import InteractiveShell\n",
        "InteractiveShell.ast_node_interactivity = \"all\"\n",
        "\n",
        "import os\n",
        "os.chdir('/content/drive/MyDrive/Colab Notebooks')\n"
      ],
      "metadata": {
        "id": "p8XGn8e8HiPr"
      },
      "execution_count": null,
      "outputs": []
    },
    {
      "cell_type": "markdown",
      "source": [
        "https://betterprogramming.pub/how-to-convert-pdfs-into-searchable-key-words-with-python-85aab86c544f#:~:text=Setup%201%20Step%201%3A%20Import%20all%20libraries%20import,...%203%20Step%203%3A%20Convert%20text%20into%20keywords"
      ],
      "metadata": {
        "id": "1kqgLAukHtQX"
      }
    },
    {
      "cell_type": "code",
      "source": [
        "file='fake text.pdf'"
      ],
      "metadata": {
        "id": "IpaW5dfbHPHq"
      },
      "execution_count": null,
      "outputs": []
    },
    {
      "cell_type": "code",
      "source": [
        "file"
      ],
      "metadata": {
        "colab": {
          "base_uri": "https://localhost:8080/",
          "height": 35
        },
        "id": "nJ2YNWb6HTpA",
        "outputId": "097b6e6e-c982-4208-d1a0-4ca2483958b4"
      },
      "execution_count": null,
      "outputs": [
        {
          "output_type": "execute_result",
          "data": {
            "text/plain": [
              "'fake text.pdf'"
            ],
            "application/vnd.google.colaboratory.intrinsic+json": {
              "type": "string"
            }
          },
          "metadata": {},
          "execution_count": 14
        }
      ]
    },
    {
      "cell_type": "code",
      "source": [
        "pdfFileObj=open(file, 'rb')"
      ],
      "metadata": {
        "id": "-4z7Yh6QHUIa"
      },
      "execution_count": null,
      "outputs": []
    },
    {
      "cell_type": "code",
      "source": [
        "pdfReader=PyPDF2.PdfFileReader(pdfFileObj)\n",
        "num_pages=pdfReader.numPages\n",
        "count=0\n",
        "text=''"
      ],
      "metadata": {
        "colab": {
          "base_uri": "https://localhost:8080/"
        },
        "id": "4y3XmTG-HZ-W",
        "outputId": "99e90b8d-8033-4a4f-a50d-256a9f168336"
      },
      "execution_count": null,
      "outputs": [
        {
          "output_type": "stream",
          "name": "stderr",
          "text": [
            "WARNING:PyPDF2._reader:Superfluous whitespace found in object header b'1' b'0'\n",
            "WARNING:PyPDF2._reader:Superfluous whitespace found in object header b'2' b'0'\n",
            "WARNING:PyPDF2._reader:Superfluous whitespace found in object header b'3' b'0'\n",
            "WARNING:PyPDF2._reader:Superfluous whitespace found in object header b'14' b'0'\n",
            "WARNING:PyPDF2._reader:Superfluous whitespace found in object header b'17' b'0'\n",
            "WARNING:PyPDF2._reader:Superfluous whitespace found in object header b'20' b'0'\n",
            "WARNING:PyPDF2._reader:Superfluous whitespace found in object header b'23' b'0'\n"
          ]
        }
      ]
    },
    {
      "cell_type": "code",
      "source": [
        "while count < num_pages:\n",
        "  pageObj = pdfReader.getPage(count)\n",
        "  count=+1\n",
        "  text=pageObj.extractText()"
      ],
      "metadata": {
        "colab": {
          "base_uri": "https://localhost:8080/",
          "height": 467
        },
        "id": "xI7c-loBIGdi",
        "outputId": "7d61d39d-6939-483f-88f3-c7b7144c1ef6"
      },
      "execution_count": null,
      "outputs": [
        {
          "output_type": "stream",
          "name": "stderr",
          "text": [
            "WARNING:PyPDF2._reader:Superfluous whitespace found in object header b'13' b'0'\n",
            "WARNING:PyPDF2._reader:Superfluous whitespace found in object header b'11' b'0'\n",
            "WARNING:PyPDF2._reader:Superfluous whitespace found in object header b'10' b'0'\n",
            "WARNING:PyPDF2._reader:Superfluous whitespace found in object header b'9' b'0'\n",
            "WARNING:PyPDF2._reader:Superfluous whitespace found in object header b'12' b'0'\n",
            "WARNING:PyPDF2._reader:Superfluous whitespace found in object header b'16' b'0'\n",
            "WARNING:PyPDF2._reader:Superfluous whitespace found in object header b'15' b'0'\n"
          ]
        },
        {
          "output_type": "error",
          "ename": "KeyboardInterrupt",
          "evalue": "ignored",
          "traceback": [
            "\u001b[0;31m---------------------------------------------------------------------------\u001b[0m",
            "\u001b[0;31mKeyboardInterrupt\u001b[0m                         Traceback (most recent call last)",
            "\u001b[0;32m<ipython-input-21-245735e47ce0>\u001b[0m in \u001b[0;36m<module>\u001b[0;34m\u001b[0m\n\u001b[1;32m      2\u001b[0m   \u001b[0mpageObj\u001b[0m \u001b[0;34m=\u001b[0m \u001b[0mpdfReader\u001b[0m\u001b[0;34m.\u001b[0m\u001b[0mgetPage\u001b[0m\u001b[0;34m(\u001b[0m\u001b[0mcount\u001b[0m\u001b[0;34m)\u001b[0m\u001b[0;34m\u001b[0m\u001b[0;34m\u001b[0m\u001b[0m\n\u001b[1;32m      3\u001b[0m   \u001b[0mcount\u001b[0m\u001b[0;34m=\u001b[0m\u001b[0;34m+\u001b[0m\u001b[0;36m1\u001b[0m\u001b[0;34m\u001b[0m\u001b[0;34m\u001b[0m\u001b[0m\n\u001b[0;32m----> 4\u001b[0;31m   \u001b[0mtext\u001b[0m\u001b[0;34m=\u001b[0m\u001b[0mpageObj\u001b[0m\u001b[0;34m.\u001b[0m\u001b[0mextractText\u001b[0m\u001b[0;34m(\u001b[0m\u001b[0;34m)\u001b[0m\u001b[0;34m\u001b[0m\u001b[0;34m\u001b[0m\u001b[0m\n\u001b[0m",
            "\u001b[0;32m/usr/local/lib/python3.7/dist-packages/PyPDF2/_page.py\u001b[0m in \u001b[0;36mextractText\u001b[0;34m(self, Tj_sep, TJ_sep)\u001b[0m\n\u001b[1;32m   1711\u001b[0m         \"\"\"\n\u001b[1;32m   1712\u001b[0m         \u001b[0mdeprecate_with_replacement\u001b[0m\u001b[0;34m(\u001b[0m\u001b[0;34m\"extractText\"\u001b[0m\u001b[0;34m,\u001b[0m \u001b[0;34m\"extract_text\"\u001b[0m\u001b[0;34m)\u001b[0m\u001b[0;34m\u001b[0m\u001b[0;34m\u001b[0m\u001b[0m\n\u001b[0;32m-> 1713\u001b[0;31m         \u001b[0;32mreturn\u001b[0m \u001b[0mself\u001b[0m\u001b[0;34m.\u001b[0m\u001b[0mextract_text\u001b[0m\u001b[0;34m(\u001b[0m\u001b[0;34m)\u001b[0m\u001b[0;34m\u001b[0m\u001b[0;34m\u001b[0m\u001b[0m\n\u001b[0m\u001b[1;32m   1714\u001b[0m \u001b[0;34m\u001b[0m\u001b[0m\n\u001b[1;32m   1715\u001b[0m     \u001b[0;32mdef\u001b[0m \u001b[0m_get_fonts\u001b[0m\u001b[0;34m(\u001b[0m\u001b[0mself\u001b[0m\u001b[0;34m)\u001b[0m \u001b[0;34m->\u001b[0m \u001b[0mTuple\u001b[0m\u001b[0;34m[\u001b[0m\u001b[0mSet\u001b[0m\u001b[0;34m[\u001b[0m\u001b[0mstr\u001b[0m\u001b[0;34m]\u001b[0m\u001b[0;34m,\u001b[0m \u001b[0mSet\u001b[0m\u001b[0;34m[\u001b[0m\u001b[0mstr\u001b[0m\u001b[0;34m]\u001b[0m\u001b[0;34m]\u001b[0m\u001b[0;34m:\u001b[0m\u001b[0;34m\u001b[0m\u001b[0;34m\u001b[0m\u001b[0m\n",
            "\u001b[0;32m/usr/local/lib/python3.7/dist-packages/PyPDF2/_page.py\u001b[0m in \u001b[0;36mextract_text\u001b[0;34m(self, Tj_sep, TJ_sep, orientations, space_width, *args)\u001b[0m\n\u001b[1;32m   1684\u001b[0m \u001b[0;34m\u001b[0m\u001b[0m\n\u001b[1;32m   1685\u001b[0m         return self._extract_text(\n\u001b[0;32m-> 1686\u001b[0;31m             \u001b[0mself\u001b[0m\u001b[0;34m,\u001b[0m \u001b[0mself\u001b[0m\u001b[0;34m.\u001b[0m\u001b[0mpdf\u001b[0m\u001b[0;34m,\u001b[0m \u001b[0morientations\u001b[0m\u001b[0;34m,\u001b[0m \u001b[0mspace_width\u001b[0m\u001b[0;34m,\u001b[0m \u001b[0mPG\u001b[0m\u001b[0;34m.\u001b[0m\u001b[0mCONTENTS\u001b[0m\u001b[0;34m\u001b[0m\u001b[0;34m\u001b[0m\u001b[0m\n\u001b[0m\u001b[1;32m   1687\u001b[0m         )\n\u001b[1;32m   1688\u001b[0m \u001b[0;34m\u001b[0m\u001b[0m\n",
            "\u001b[0;32m/usr/local/lib/python3.7/dist-packages/PyPDF2/_page.py\u001b[0m in \u001b[0;36m_extract_text\u001b[0;34m(self, obj, pdf, orientations, space_width, content_key)\u001b[0m\n\u001b[1;32m   1588\u001b[0m                 \u001b[0;32mfor\u001b[0m \u001b[0mop\u001b[0m \u001b[0;32min\u001b[0m \u001b[0moperands\u001b[0m\u001b[0;34m[\u001b[0m\u001b[0;36m0\u001b[0m\u001b[0;34m]\u001b[0m\u001b[0;34m:\u001b[0m\u001b[0;34m\u001b[0m\u001b[0;34m\u001b[0m\u001b[0m\n\u001b[1;32m   1589\u001b[0m                     \u001b[0;32mif\u001b[0m \u001b[0misinstance\u001b[0m\u001b[0;34m(\u001b[0m\u001b[0mop\u001b[0m\u001b[0;34m,\u001b[0m \u001b[0;34m(\u001b[0m\u001b[0mstr\u001b[0m\u001b[0;34m,\u001b[0m \u001b[0mbytes\u001b[0m\u001b[0;34m)\u001b[0m\u001b[0;34m)\u001b[0m\u001b[0;34m:\u001b[0m\u001b[0;34m\u001b[0m\u001b[0;34m\u001b[0m\u001b[0m\n\u001b[0;32m-> 1590\u001b[0;31m                         \u001b[0mprocess_operation\u001b[0m\u001b[0;34m(\u001b[0m\u001b[0;34mb\"Tj\"\u001b[0m\u001b[0;34m,\u001b[0m \u001b[0;34m[\u001b[0m\u001b[0mop\u001b[0m\u001b[0;34m]\u001b[0m\u001b[0;34m)\u001b[0m\u001b[0;34m\u001b[0m\u001b[0;34m\u001b[0m\u001b[0m\n\u001b[0m\u001b[1;32m   1591\u001b[0m                     \u001b[0;32mif\u001b[0m \u001b[0misinstance\u001b[0m\u001b[0;34m(\u001b[0m\u001b[0mop\u001b[0m\u001b[0;34m,\u001b[0m \u001b[0;34m(\u001b[0m\u001b[0mint\u001b[0m\u001b[0;34m,\u001b[0m \u001b[0mfloat\u001b[0m\u001b[0;34m,\u001b[0m \u001b[0mNumberObject\u001b[0m\u001b[0;34m,\u001b[0m \u001b[0mFloatObject\u001b[0m\u001b[0;34m)\u001b[0m\u001b[0;34m)\u001b[0m\u001b[0;34m:\u001b[0m\u001b[0;34m\u001b[0m\u001b[0;34m\u001b[0m\u001b[0m\n\u001b[1;32m   1592\u001b[0m                         if (\n",
            "\u001b[0;32m/usr/local/lib/python3.7/dist-packages/PyPDF2/_page.py\u001b[0m in \u001b[0;36mprocess_operation\u001b[0;34m(operator, operands)\u001b[0m\n\u001b[1;32m   1447\u001b[0m             \u001b[0;32melif\u001b[0m \u001b[0moperator\u001b[0m \u001b[0;34m==\u001b[0m \u001b[0;34mb\"Tj\"\u001b[0m\u001b[0;34m:\u001b[0m\u001b[0;34m\u001b[0m\u001b[0;34m\u001b[0m\u001b[0m\n\u001b[1;32m   1448\u001b[0m                 \u001b[0mcheck_crlf_space\u001b[0m \u001b[0;34m=\u001b[0m \u001b[0;32mTrue\u001b[0m\u001b[0;34m\u001b[0m\u001b[0;34m\u001b[0m\u001b[0m\n\u001b[0;32m-> 1449\u001b[0;31m                 \u001b[0mm\u001b[0m \u001b[0;34m=\u001b[0m \u001b[0mmult\u001b[0m\u001b[0;34m(\u001b[0m\u001b[0mtm_matrix\u001b[0m\u001b[0;34m,\u001b[0m \u001b[0mcm_matrix\u001b[0m\u001b[0;34m)\u001b[0m\u001b[0;34m\u001b[0m\u001b[0;34m\u001b[0m\u001b[0m\n\u001b[0m\u001b[1;32m   1450\u001b[0m                 \u001b[0mo\u001b[0m \u001b[0;34m=\u001b[0m \u001b[0morient\u001b[0m\u001b[0;34m(\u001b[0m\u001b[0mm\u001b[0m\u001b[0;34m)\u001b[0m\u001b[0;34m\u001b[0m\u001b[0;34m\u001b[0m\u001b[0m\n\u001b[1;32m   1451\u001b[0m                 \u001b[0;32mif\u001b[0m \u001b[0mo\u001b[0m \u001b[0;32min\u001b[0m \u001b[0morientations\u001b[0m\u001b[0;34m:\u001b[0m\u001b[0;34m\u001b[0m\u001b[0;34m\u001b[0m\u001b[0m\n",
            "\u001b[0;32m/usr/local/lib/python3.7/dist-packages/PyPDF2/_page.py\u001b[0m in \u001b[0;36mmult\u001b[0;34m(m, n)\u001b[0m\n\u001b[1;32m   1313\u001b[0m         \u001b[0;32mdef\u001b[0m \u001b[0mmult\u001b[0m\u001b[0;34m(\u001b[0m\u001b[0mm\u001b[0m\u001b[0;34m:\u001b[0m \u001b[0mList\u001b[0m\u001b[0;34m[\u001b[0m\u001b[0mfloat\u001b[0m\u001b[0;34m]\u001b[0m\u001b[0;34m,\u001b[0m \u001b[0mn\u001b[0m\u001b[0;34m:\u001b[0m \u001b[0mList\u001b[0m\u001b[0;34m[\u001b[0m\u001b[0mfloat\u001b[0m\u001b[0;34m]\u001b[0m\u001b[0;34m)\u001b[0m \u001b[0;34m->\u001b[0m \u001b[0mList\u001b[0m\u001b[0;34m[\u001b[0m\u001b[0mfloat\u001b[0m\u001b[0;34m]\u001b[0m\u001b[0;34m:\u001b[0m\u001b[0;34m\u001b[0m\u001b[0;34m\u001b[0m\u001b[0m\n\u001b[1;32m   1314\u001b[0m             return [\n\u001b[0;32m-> 1315\u001b[0;31m                 \u001b[0mm\u001b[0m\u001b[0;34m[\u001b[0m\u001b[0;36m0\u001b[0m\u001b[0;34m]\u001b[0m \u001b[0;34m*\u001b[0m \u001b[0mn\u001b[0m\u001b[0;34m[\u001b[0m\u001b[0;36m0\u001b[0m\u001b[0;34m]\u001b[0m \u001b[0;34m+\u001b[0m \u001b[0mm\u001b[0m\u001b[0;34m[\u001b[0m\u001b[0;36m1\u001b[0m\u001b[0;34m]\u001b[0m \u001b[0;34m*\u001b[0m \u001b[0mn\u001b[0m\u001b[0;34m[\u001b[0m\u001b[0;36m2\u001b[0m\u001b[0;34m]\u001b[0m\u001b[0;34m,\u001b[0m\u001b[0;34m\u001b[0m\u001b[0;34m\u001b[0m\u001b[0m\n\u001b[0m\u001b[1;32m   1316\u001b[0m                 \u001b[0mm\u001b[0m\u001b[0;34m[\u001b[0m\u001b[0;36m0\u001b[0m\u001b[0;34m]\u001b[0m \u001b[0;34m*\u001b[0m \u001b[0mn\u001b[0m\u001b[0;34m[\u001b[0m\u001b[0;36m1\u001b[0m\u001b[0;34m]\u001b[0m \u001b[0;34m+\u001b[0m \u001b[0mm\u001b[0m\u001b[0;34m[\u001b[0m\u001b[0;36m1\u001b[0m\u001b[0;34m]\u001b[0m \u001b[0;34m*\u001b[0m \u001b[0mn\u001b[0m\u001b[0;34m[\u001b[0m\u001b[0;36m3\u001b[0m\u001b[0;34m]\u001b[0m\u001b[0;34m,\u001b[0m\u001b[0;34m\u001b[0m\u001b[0;34m\u001b[0m\u001b[0m\n\u001b[1;32m   1317\u001b[0m                 \u001b[0mm\u001b[0m\u001b[0;34m[\u001b[0m\u001b[0;36m2\u001b[0m\u001b[0;34m]\u001b[0m \u001b[0;34m*\u001b[0m \u001b[0mn\u001b[0m\u001b[0;34m[\u001b[0m\u001b[0;36m0\u001b[0m\u001b[0;34m]\u001b[0m \u001b[0;34m+\u001b[0m \u001b[0mm\u001b[0m\u001b[0;34m[\u001b[0m\u001b[0;36m3\u001b[0m\u001b[0;34m]\u001b[0m \u001b[0;34m*\u001b[0m \u001b[0mn\u001b[0m\u001b[0;34m[\u001b[0m\u001b[0;36m2\u001b[0m\u001b[0;34m]\u001b[0m\u001b[0;34m,\u001b[0m\u001b[0;34m\u001b[0m\u001b[0;34m\u001b[0m\u001b[0m\n",
            "\u001b[0;31mKeyboardInterrupt\u001b[0m: "
          ]
        }
      ]
    },
    {
      "cell_type": "code",
      "source": [
        "if text != \"\":\n",
        "  text=text\n",
        "else:\n",
        "  text='MONE'"
      ],
      "metadata": {
        "id": "YqLZHn5WIWQE"
      },
      "execution_count": null,
      "outputs": []
    },
    {
      "cell_type": "markdown",
      "source": [
        "https://www.pythonnlp.com/2019/08/python-strings-extract-sentences-with.html\n"
      ],
      "metadata": {
        "id": "J2Mkl_xiL821"
      }
    },
    {
      "cell_type": "code",
      "source": [
        "file"
      ],
      "metadata": {
        "colab": {
          "base_uri": "https://localhost:8080/",
          "height": 35
        },
        "id": "AsoHD5sRIZaM",
        "outputId": "46d2fa45-d550-4ac4-e5ba-f053594af8b2"
      },
      "execution_count": null,
      "outputs": [
        {
          "output_type": "execute_result",
          "data": {
            "text/plain": [
              "'fake text.pdf'"
            ],
            "application/vnd.google.colaboratory.intrinsic+json": {
              "type": "string"
            }
          },
          "metadata": {},
          "execution_count": 23
        }
      ]
    },
    {
      "cell_type": "code",
      "source": [
        "pdfReader"
      ],
      "metadata": {
        "colab": {
          "base_uri": "https://localhost:8080/"
        },
        "id": "3Pg13XQDL3oh",
        "outputId": "7a479992-4748-4868-a1db-b93a8b8f68b8"
      },
      "execution_count": null,
      "outputs": [
        {
          "output_type": "execute_result",
          "data": {
            "text/plain": [
              "<PyPDF2._reader.PdfFileReader at 0x7f70567687d0>"
            ]
          },
          "metadata": {},
          "execution_count": 24
        }
      ]
    },
    {
      "cell_type": "code",
      "source": [
        "paragraph='This here is an introduction to nothingness \\n The 30-year old is here. Here is another sentence about the 30year old. \\n  Paragraph buffer here too. The 15 year old is there. \\n Also there is a whole set of information about both 30- and 15- year olds that we should have for everything as well. THis is some other sentence in the paragraph '"
      ],
      "metadata": {
        "id": "uy6xA5f6MA3e"
      },
      "execution_count": null,
      "outputs": []
    },
    {
      "cell_type": "code",
      "source": [
        "phrases=['30','15']\n",
        "\n"
      ],
      "metadata": {
        "id": "iWTbLh_8MKIB"
      },
      "execution_count": null,
      "outputs": []
    },
    {
      "cell_type": "code",
      "source": [
        "splits=[]\n",
        "splits=paragraph.split('\\n')"
      ],
      "metadata": {
        "id": "CDRoDkD9MUH-"
      },
      "execution_count": null,
      "outputs": []
    },
    {
      "cell_type": "code",
      "source": [
        "data_dict={'30':[], '15':[]}\n",
        "\n",
        "for phrase in phrases:\n",
        "  data=[]\n",
        "  for split in splits:\n",
        "    if split.count(phrase)>0:\n",
        "      data.append(split)\n",
        "  data_dict[phrase]=data"
      ],
      "metadata": {
        "id": "8lTvWn2aMccZ"
      },
      "execution_count": null,
      "outputs": []
    },
    {
      "cell_type": "code",
      "source": [
        "data_dict"
      ],
      "metadata": {
        "colab": {
          "base_uri": "https://localhost:8080/"
        },
        "id": "zigYHJHWNztB",
        "outputId": "03761660-f51f-4c56-d0a0-dedea2e27bb7"
      },
      "execution_count": null,
      "outputs": [
        {
          "output_type": "execute_result",
          "data": {
            "text/plain": [
              "{'30': [' The 30-year old is here. Here is another sentence about the 30year old. ',\n",
              "  ' Also there is a whole set of information about both 30- and 15- year olds that we should have for everything as well. THis is some other sentence in the paragraph '],\n",
              " '15': ['  Paragraph buffer here too. The 15 year old is there. ',\n",
              "  ' Also there is a whole set of information about both 30- and 15- year olds that we should have for everything as well. THis is some other sentence in the paragraph ']}"
            ]
          },
          "metadata": {},
          "execution_count": 47
        }
      ]
    },
    {
      "cell_type": "code",
      "source": [],
      "metadata": {
        "id": "5Hld4EarN8Pb"
      },
      "execution_count": null,
      "outputs": []
    }
  ]
}